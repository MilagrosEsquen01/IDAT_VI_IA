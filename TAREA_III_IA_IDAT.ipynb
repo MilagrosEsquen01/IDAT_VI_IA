{
  "nbformat": 4,
  "nbformat_minor": 0,
  "metadata": {
    "colab": {
      "provenance": [],
      "authorship_tag": "ABX9TyMuEuseOFvXP2E6URy+DC1n",
      "include_colab_link": true
    },
    "kernelspec": {
      "name": "python3",
      "display_name": "Python 3"
    },
    "language_info": {
      "name": "python"
    }
  },
  "cells": [
    {
      "cell_type": "markdown",
      "metadata": {
        "id": "view-in-github",
        "colab_type": "text"
      },
      "source": [
        "<a href=\"https://colab.research.google.com/github/MilagrosEsquen01/IDAT_VI_IA/blob/main/TAREA_III_IA_IDAT.ipynb\" target=\"_parent\"><img src=\"https://colab.research.google.com/assets/colab-badge.svg\" alt=\"Open In Colab\"/></a>"
      ]
    },
    {
      "cell_type": "code",
      "execution_count": 2,
      "metadata": {
        "id": "QaQ_unOHKJjF"
      },
      "outputs": [],
      "source": [
        "# PROBLEMA 1 \n",
        "\n",
        "from tensorflow import keras\n",
        "from tensorflow.keras import Sequential,layers\n",
        "\n",
        "modelo_1=Sequential([layers.Dense(512,input_shape=[2500],activation=\"relu\"),\n",
        "                     layers.Dense(4,activation=\"relu\"),\n",
        "                     layers.Dense(1,activation=\"sigmoid\")])"
      ]
    },
    {
      "cell_type": "code",
      "source": [
        "modelo_1.summary()"
      ],
      "metadata": {
        "id": "e6bfHffOz-CK"
      },
      "execution_count": null,
      "outputs": []
    },
    {
      "cell_type": "code",
      "source": [
        "# PROBLEMA 2\n",
        "\n",
        "from tensorflow import keras\n",
        "from tensorflow.keras import Sequential,layers\n",
        "\n",
        "modelo_2=Sequential([layers.Dense(128,input_shape=[6400],activation=\"relu\"),\n",
        "                     layers.Dense(64,activation=\"relu\"),\n",
        "                     layers.Dense(1,activation=None)])"
      ],
      "metadata": {
        "id": "oF2WQ2IFKK6n"
      },
      "execution_count": 6,
      "outputs": []
    },
    {
      "cell_type": "code",
      "source": [
        "modelo_2.summary()"
      ],
      "metadata": {
        "id": "bu0krICMbNYV"
      },
      "execution_count": null,
      "outputs": []
    },
    {
      "cell_type": "code",
      "source": [
        "# PROBLEMA 3\n",
        "\n",
        "from tensorflow import keras\n",
        "from tensorflow.keras import Sequential,layers\n",
        "\n",
        "modelo_3=Sequential([layers.Dense(4,input_shape=[2],activation=\"relu\"),\n",
        "                     layers.Dense(4,activation=\"relu\"),\n",
        "                     layers.Dense(1,activation=\"sigmoid\")])"
      ],
      "metadata": {
        "id": "nkldIlelKLK_"
      },
      "execution_count": null,
      "outputs": []
    },
    {
      "cell_type": "code",
      "source": [
        "modelo_3.summary()"
      ],
      "metadata": {
        "id": "Nwp2d3Y5fkAs"
      },
      "execution_count": null,
      "outputs": []
    },
    {
      "cell_type": "code",
      "source": [
        "#PROBLEMA 4\n",
        "\n",
        "from tensorflow import keras\n",
        "from tensorflow.keras import Sequential,layers\n",
        "\n",
        "modelo_4=Sequential([layers.Dense(6,input_shape=[4],activation=\"relu\"),\n",
        "                     layers.Dense(4,activation=\"relu\"),\n",
        "                     layers.Dense(1,activation=None)])"
      ],
      "metadata": {
        "id": "LCtBWwo7KLWf"
      },
      "execution_count": 9,
      "outputs": []
    },
    {
      "cell_type": "code",
      "source": [
        "modelo_4.summary()"
      ],
      "metadata": {
        "id": "QK-RPpYQfkrj"
      },
      "execution_count": null,
      "outputs": []
    }
  ]
}