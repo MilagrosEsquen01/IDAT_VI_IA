{
  "nbformat": 4,
  "nbformat_minor": 0,
  "metadata": {
    "colab": {
      "provenance": [],
      "authorship_tag": "ABX9TyOgLOGTnB6oDIcIhjgOm7QT",
      "include_colab_link": true
    },
    "kernelspec": {
      "name": "python3",
      "display_name": "Python 3"
    },
    "language_info": {
      "name": "python"
    }
  },
  "cells": [
    {
      "cell_type": "markdown",
      "metadata": {
        "id": "view-in-github",
        "colab_type": "text"
      },
      "source": [
        "<a href=\"https://colab.research.google.com/github/MilagrosEsquen01/IDAT_VI_IA/blob/main/Semana1/tarea1.ipynb\" target=\"_parent\"><img src=\"https://colab.research.google.com/assets/colab-badge.svg\" alt=\"Open In Colab\"/></a>"
      ]
    },
    {
      "cell_type": "code",
      "source": [
        "!pip install qrcode[pil]"
      ],
      "metadata": {
        "id": "It9xWXn6hshd"
      },
      "execution_count": null,
      "outputs": []
    },
    {
      "cell_type": "code",
      "source": [
        "import qrcode"
      ],
      "metadata": {
        "id": "QUXykCcwinrZ"
      },
      "execution_count": 7,
      "outputs": []
    },
    {
      "cell_type": "code",
      "source": [
        "text=\"milagros esquen \\wi70662506\\nMECATRONICA INDUSTRIAL  <3...\"\n",
        "img=qrcode.make(text)\n",
        "f=open(\"datos1.png\",\"wb\")\n",
        "img.save(f)\n",
        "f.close()\n"
      ],
      "metadata": {
        "id": "t7sLMx21in6m"
      },
      "execution_count": 9,
      "outputs": []
    }
  ]
}